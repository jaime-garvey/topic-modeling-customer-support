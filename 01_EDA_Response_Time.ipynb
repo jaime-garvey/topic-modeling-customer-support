{
 "cells": [
  {
   "cell_type": "code",
   "execution_count": 34,
   "metadata": {
    "ExecuteTime": {
     "end_time": "2019-02-27T22:48:57.940833Z",
     "start_time": "2019-02-27T22:48:57.930652Z"
    }
   },
   "outputs": [],
   "source": [
    "import numpy as np\n",
    "import pandas as pd\n",
    "\n",
    "%matplotlib inline"
   ]
  },
  {
   "cell_type": "code",
   "execution_count": 2,
   "metadata": {
    "ExecuteTime": {
     "end_time": "2019-02-27T22:15:53.713368Z",
     "start_time": "2019-02-27T22:15:45.649234Z"
    }
   },
   "outputs": [],
   "source": [
    "tweets = pd.read_csv('/Users/Jaime/Downloads/customer-support-on-twitter/twcs.csv')"
   ]
  },
  {
   "cell_type": "code",
   "execution_count": 9,
   "metadata": {
    "ExecuteTime": {
     "end_time": "2019-02-27T22:22:23.521281Z",
     "start_time": "2019-02-27T22:22:22.380731Z"
    }
   },
   "outputs": [],
   "source": [
    "conversations = pd.read_pickle('/Users/Jaime/ds/metis/metisgh/projects/ds-projects/data/conversations.pkl')"
   ]
  },
  {
   "cell_type": "code",
   "execution_count": 12,
   "metadata": {
    "ExecuteTime": {
     "end_time": "2019-02-27T22:23:25.768702Z",
     "start_time": "2019-02-27T22:23:25.762488Z"
    }
   },
   "outputs": [
    {
     "data": {
      "text/plain": [
       "['1', '2', '3', '4', '5', '6', '7', '8', '9', '10']"
      ]
     },
     "execution_count": 12,
     "metadata": {},
     "output_type": "execute_result"
    }
   ],
   "source": [
    "conversations[0]"
   ]
  },
  {
   "cell_type": "code",
   "execution_count": 4,
   "metadata": {
    "ExecuteTime": {
     "end_time": "2019-02-27T22:15:59.322035Z",
     "start_time": "2019-02-27T22:15:59.305210Z"
    },
    "scrolled": true
   },
   "outputs": [
    {
     "data": {
      "text/html": [
       "<div>\n",
       "<style scoped>\n",
       "    .dataframe tbody tr th:only-of-type {\n",
       "        vertical-align: middle;\n",
       "    }\n",
       "\n",
       "    .dataframe tbody tr th {\n",
       "        vertical-align: top;\n",
       "    }\n",
       "\n",
       "    .dataframe thead th {\n",
       "        text-align: right;\n",
       "    }\n",
       "</style>\n",
       "<table border=\"1\" class=\"dataframe\">\n",
       "  <thead>\n",
       "    <tr style=\"text-align: right;\">\n",
       "      <th></th>\n",
       "      <th>tweet_id</th>\n",
       "      <th>author_id</th>\n",
       "      <th>inbound</th>\n",
       "      <th>created_at</th>\n",
       "      <th>text</th>\n",
       "      <th>response_tweet_id</th>\n",
       "      <th>in_response_to_tweet_id</th>\n",
       "    </tr>\n",
       "  </thead>\n",
       "  <tbody>\n",
       "    <tr>\n",
       "      <th>0</th>\n",
       "      <td>1</td>\n",
       "      <td>sprintcare</td>\n",
       "      <td>False</td>\n",
       "      <td>Tue Oct 31 22:10:47 +0000 2017</td>\n",
       "      <td>@115712 I understand. I would like to assist y...</td>\n",
       "      <td>2</td>\n",
       "      <td>3.0</td>\n",
       "    </tr>\n",
       "    <tr>\n",
       "      <th>1</th>\n",
       "      <td>2</td>\n",
       "      <td>115712</td>\n",
       "      <td>True</td>\n",
       "      <td>Tue Oct 31 22:11:45 +0000 2017</td>\n",
       "      <td>@sprintcare and how do you propose we do that</td>\n",
       "      <td>NaN</td>\n",
       "      <td>1.0</td>\n",
       "    </tr>\n",
       "    <tr>\n",
       "      <th>2</th>\n",
       "      <td>3</td>\n",
       "      <td>115712</td>\n",
       "      <td>True</td>\n",
       "      <td>Tue Oct 31 22:08:27 +0000 2017</td>\n",
       "      <td>@sprintcare I have sent several private messag...</td>\n",
       "      <td>1</td>\n",
       "      <td>4.0</td>\n",
       "    </tr>\n",
       "    <tr>\n",
       "      <th>3</th>\n",
       "      <td>4</td>\n",
       "      <td>sprintcare</td>\n",
       "      <td>False</td>\n",
       "      <td>Tue Oct 31 21:54:49 +0000 2017</td>\n",
       "      <td>@115712 Please send us a Private Message so th...</td>\n",
       "      <td>3</td>\n",
       "      <td>5.0</td>\n",
       "    </tr>\n",
       "    <tr>\n",
       "      <th>4</th>\n",
       "      <td>5</td>\n",
       "      <td>115712</td>\n",
       "      <td>True</td>\n",
       "      <td>Tue Oct 31 21:49:35 +0000 2017</td>\n",
       "      <td>@sprintcare I did.</td>\n",
       "      <td>4</td>\n",
       "      <td>6.0</td>\n",
       "    </tr>\n",
       "  </tbody>\n",
       "</table>\n",
       "</div>"
      ],
      "text/plain": [
       "   tweet_id   author_id  inbound                      created_at  \\\n",
       "0         1  sprintcare    False  Tue Oct 31 22:10:47 +0000 2017   \n",
       "1         2      115712     True  Tue Oct 31 22:11:45 +0000 2017   \n",
       "2         3      115712     True  Tue Oct 31 22:08:27 +0000 2017   \n",
       "3         4  sprintcare    False  Tue Oct 31 21:54:49 +0000 2017   \n",
       "4         5      115712     True  Tue Oct 31 21:49:35 +0000 2017   \n",
       "\n",
       "                                                text response_tweet_id  \\\n",
       "0  @115712 I understand. I would like to assist y...                 2   \n",
       "1      @sprintcare and how do you propose we do that               NaN   \n",
       "2  @sprintcare I have sent several private messag...                 1   \n",
       "3  @115712 Please send us a Private Message so th...                 3   \n",
       "4                                 @sprintcare I did.                 4   \n",
       "\n",
       "   in_response_to_tweet_id  \n",
       "0                      3.0  \n",
       "1                      1.0  \n",
       "2                      4.0  \n",
       "3                      5.0  \n",
       "4                      6.0  "
      ]
     },
     "execution_count": 4,
     "metadata": {},
     "output_type": "execute_result"
    }
   ],
   "source": [
    "tweets.head()"
   ]
  },
  {
   "cell_type": "code",
   "execution_count": 6,
   "metadata": {
    "ExecuteTime": {
     "end_time": "2019-02-27T22:16:45.786431Z",
     "start_time": "2019-02-27T22:16:45.229823Z"
    }
   },
   "outputs": [],
   "source": [
    "tweets['author_id'] = tweets['author_id'].apply(lambda x: x.strip())"
   ]
  },
  {
   "cell_type": "code",
   "execution_count": 7,
   "metadata": {
    "ExecuteTime": {
     "end_time": "2019-02-27T22:19:49.463492Z",
     "start_time": "2019-02-27T22:19:38.405649Z"
    }
   },
   "outputs": [],
   "source": [
    "#Date time\n",
    "tweets['created_at'] = pd.to_datetime(tweets['created_at'], format = '%a %b %d %H:%M:%S +0000 %Y')"
   ]
  },
  {
   "cell_type": "code",
   "execution_count": 21,
   "metadata": {
    "ExecuteTime": {
     "end_time": "2019-02-27T22:45:13.247829Z",
     "start_time": "2019-02-27T22:45:11.088348Z"
    }
   },
   "outputs": [
   ],
   "source": [
    "#Separating the original dataframe into inbounds and outbounds\n",
    "inbounds = tweets.loc[tweets['inbound'] == True]\n",
    "outbounds = tweets.loc[tweets['inbound'] == False]\n",
    "\n",
    "#Merging/joining to be able to later find time between responses. Messy as a variable because the table looks so messy.\n",
    "outbounds_inbounds = pd.merge(outbounds, inbounds, left_on='in_response_to_tweet_id', right_on='tweet_id', how='outer')\n",
    "\n",
    "#Changing timestamp format\n",
    "outbounds_inbounds['outbound_time'] = pd.to_datetime(outbounds_inbounds['created_at_x'], format='%a %b %d %H:%M:%S +0000 %Y')\n",
    "outbounds_inbounds['inbound_time'] = pd.to_datetime(outbounds_inbounds['created_at_y'], format='%a %b %d %H:%M:%S +0000 %Y')\n",
    "\n",
    "#Calculating time between between outbound response and inbound message\n",
    "outbounds_inbounds['response_time'] = outbounds_inbounds['outbound_time'] - outbounds_inbounds['inbound_time']\n",
    "\n",
    "outbounds_inbounds.head(1)"
   ]
  },
  {
   "cell_type": "code",
   "execution_count": 29,
   "metadata": {
    "ExecuteTime": {
     "end_time": "2019-02-27T22:48:08.453566Z",
     "start_time": "2019-02-27T22:48:08.406901Z"
    }
   },
   "outputs": [],
   "source": [
    "#Calculating time between between outbound response and inbound message\n",
    "outbounds_inbounds['response_time'] = outbounds_inbounds['created_at_x'] - outbounds_inbounds['created_at_y']"
   ]
  },
  {
   "cell_type": "code",
   "execution_count": 30,
   "metadata": {
    "ExecuteTime": {
     "end_time": "2019-02-27T22:48:09.147796Z",
     "start_time": "2019-02-27T22:48:09.114940Z"
    }
   },
   "outputs": [],
   "source": [
    "#Making it easier to later do averages by converting to a float datatype\n",
    "outbounds_inbounds['converted_time'] = outbounds_inbounds['response_time'].astype('timedelta64[s]') / 60"
   ]
  },
  {
   "cell_type": "code",
   "execution_count": 31,
   "metadata": {
    "ExecuteTime": {
     "end_time": "2019-02-27T22:48:09.691466Z",
     "start_time": "2019-02-27T22:48:09.667343Z"
    }
   },
   "outputs": [
   ],
   "source": [
    "outbounds_inbounds.head(1)"
   ]
  },
  {
   "cell_type": "code",
   "execution_count": 32,
   "metadata": {
    "ExecuteTime": {
     "end_time": "2019-02-27T22:48:10.807203Z",
     "start_time": "2019-02-27T22:48:10.702469Z"
    }
   },
   "outputs": [],
   "source": [
    "# Getting the average response time per company.\n",
    "outbounds_inbounds.groupby('author_id_x')['converted_time'].mean()"
   ]
  },
  {
   "cell_type": "code",
   "execution_count": 35,
   "metadata": {
    "ExecuteTime": {
     "end_time": "2019-02-27T22:49:03.068677Z",
     "start_time": "2019-02-27T22:49:00.817014Z"
    }
   },
   "outputs": [],
   "source": [
    "#I saw it says 94 mins is the average time it takes for a response. This does not seem realistic.\n",
    "#Focusing in on Uber and taking out outliers.\n",
    "\n",
    "Uber = outbounds_inbounds[outbounds_inbounds['author_id_x'] == 'Uber_Support']\n",
    "uber_times = Uber['converted_time']\n",
    "\n",
    "uber_times.dropna()\n",
    "\n",
    "def remove_outlier(uber_times):\n",
    "    q1 = uber_times.quantile(0.25)\n",
    "    q3 = uber_times.quantile(0.75)\n",
    "    iqr = q3-q1 #Interquartile range\n",
    "    fence_low  = q1-1.5*iqr\n",
    "    fence_high = q3+1.5*iqr\n",
    "    df_out = uber_times.loc[(uber_times > fence_low) & (uber_times < fence_high)]\n",
    "    return df_out\n",
    "\n",
    "no_outliers = remove_outlier(uber_times)\n",
    "\n",
    "import matplotlib.pyplot as plt\n",
    "hist_plot = no_outliers.plot.hist(bins=50)\n",
    "hist_plot.set_title('Uber Support Response Time')\n",
    "hist_plot.set_xlabel('Mins to Response')\n",
    "hist_plot.set_ylabel('Frequency')\n",
    "plt.show()\n",
    "\n",
    "print('Uber\\'s average response time is ' + str(round(no_outliers.mean(),2)) + ' minutes.' )"
   ]
  },
  {
   "cell_type": "code",
   "execution_count": 36,
   "metadata": {
    "ExecuteTime": {
     "end_time": "2019-02-27T22:49:31.794459Z",
     "start_time": "2019-02-27T22:49:31.512200Z"
    }
   },
   "outputs": [],
   "source": [
    "#AskLyft\n",
    "\n",
    "lyft = outbounds_inbounds[outbounds_inbounds['author_id_x'] == 'AskLyft']\n",
    "lyft_times = lyft['converted_time']\n",
    "lyft_times.dropna()\n",
    "\n",
    "def remove_outlier(lyft_times):\n",
    "    q1 = lyft_times.quantile(0.25)\n",
    "    q3 = lyft_times.quantile(0.75)\n",
    "    iqr = q3-q1 #Interquartile range\n",
    "    fence_low  = q1-1.5*iqr\n",
    "    fence_high = q3+1.5*iqr\n",
    "    df_out = lyft.loc[(lyft_times > fence_low) & (lyft_times < fence_high)]\n",
    "    return df_out\n",
    "\n",
    "\n",
    "lyft_no_outliers = remove_outlier(lyft_times)\n",
    "\n",
    "import matplotlib.pyplot as plt\n",
    "hist_plot = lyft_no_outliers['converted_time'].plot.hist(bins=30)\n",
    "hist_plot.set_title('Lyft Support Response Time')\n",
    "hist_plot.set_xlabel('Response time (min)')\n",
    "hist_plot.set_ylabel('Frequency')\n",
    "plt.show()\n",
    "\n",
    "print('Lyft\\'s average response time is ' + str(round(lyft_no_outliers['converted_time'].mean(),2)) + ' minutes.' )"
   ]
  },
  {
   "cell_type": "code",
   "execution_count": null,
   "metadata": {},
   "outputs": [],
   "source": []
  }
 ],
 "metadata": {
  "kernelspec": {
   "display_name": "Python [conda env:chatbot]",
   "language": "python",
   "name": "conda-env-chatbot-py"
  },
  "language_info": {
   "codemirror_mode": {
    "name": "ipython",
    "version": 3
   },
   "file_extension": ".py",
   "mimetype": "text/x-python",
   "name": "python",
   "nbconvert_exporter": "python",
   "pygments_lexer": "ipython3",
   "version": "3.5.4"
  },
  "toc": {
   "base_numbering": 1,
   "nav_menu": {},
   "number_sections": true,
   "sideBar": true,
   "skip_h1_title": false,
   "title_cell": "Table of Contents",
   "title_sidebar": "Contents",
   "toc_cell": false,
   "toc_position": {},
   "toc_section_display": true,
   "toc_window_display": false
  }
 },
 "nbformat": 4,
 "nbformat_minor": 2
}
